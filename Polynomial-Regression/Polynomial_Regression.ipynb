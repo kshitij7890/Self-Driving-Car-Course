{
  "nbformat": 4,
  "nbformat_minor": 0,
  "metadata": {
    "colab": {
      "name": "Polynomial-Regression.ipynb",
      "provenance": [],
      "collapsed_sections": []
    },
    "kernelspec": {
      "name": "python3",
      "display_name": "Python 3"
    }
  },
  "cells": [
    {
      "cell_type": "code",
      "metadata": {
        "id": "J0Rc31axQXyb",
        "colab_type": "code",
        "colab": {}
      },
      "source": [
        "import numpy as np\n",
        "import matplotlib.pyplot as plt\n",
        "from keras.models import Sequential\n",
        "from keras.layers import Dense\n",
        "from keras.optimizers import Adam"
      ],
      "execution_count": 10,
      "outputs": []
    },
    {
      "cell_type": "code",
      "metadata": {
        "id": "b-dOEZ4UQhBe",
        "colab_type": "code",
        "colab": {}
      },
      "source": [
        "np.random.seed(0)\n",
        "points = 500\n",
        "X = np.linspace(-3, 3, points)\n",
        "y = np.sin(X) + np.random.uniform(-0.5, 0.5, points) # noise is created for every point"
      ],
      "execution_count": 11,
      "outputs": []
    },
    {
      "cell_type": "code",
      "metadata": {
        "id": "Qo9Lpgo3Qj8L",
        "colab_type": "code",
        "colab": {}
      },
      "source": [
        "model = Sequential()\n",
        "model.add(Dense(50, activation='sigmoid', input_dim=1)) # only one input\n",
        "model.add(Dense(30, activation='sigmoid'))\n",
        "model.add(Dense(1)) # single output node"
      ],
      "execution_count": 12,
      "outputs": []
    },
    {
      "cell_type": "code",
      "metadata": {
        "id": "QzGV_vwAQmEW",
        "colab_type": "code",
        "colab": {
          "base_uri": "https://localhost:8080/",
          "height": 1000
        },
        "outputId": "c1466e9b-5f9f-4670-eb5c-36d7d7033b6c"
      },
      "source": [
        "adam = Adam(lr=0.01)\n",
        "model.compile(loss='mse', optimizer=adam) # mse = mean squared error\n",
        "model.fit(X, y, epochs=50)"
      ],
      "execution_count": 13,
      "outputs": [
        {
          "output_type": "stream",
          "text": [
            "Epoch 1/50\n",
            "500/500 [==============================] - 0s 171us/step - loss: 0.7453\n",
            "Epoch 2/50\n",
            "500/500 [==============================] - 0s 48us/step - loss: 0.3593\n",
            "Epoch 3/50\n",
            "500/500 [==============================] - 0s 39us/step - loss: 0.2257\n",
            "Epoch 4/50\n",
            "500/500 [==============================] - 0s 39us/step - loss: 0.2176\n",
            "Epoch 5/50\n",
            "500/500 [==============================] - 0s 39us/step - loss: 0.2120\n",
            "Epoch 6/50\n",
            "500/500 [==============================] - 0s 42us/step - loss: 0.2148\n",
            "Epoch 7/50\n",
            "500/500 [==============================] - 0s 45us/step - loss: 0.2011\n",
            "Epoch 8/50\n",
            "500/500 [==============================] - 0s 39us/step - loss: 0.2002\n",
            "Epoch 9/50\n",
            "500/500 [==============================] - 0s 43us/step - loss: 0.1860\n",
            "Epoch 10/50\n",
            "500/500 [==============================] - 0s 39us/step - loss: 0.1808\n",
            "Epoch 11/50\n",
            "500/500 [==============================] - 0s 38us/step - loss: 0.1722\n",
            "Epoch 12/50\n",
            "500/500 [==============================] - 0s 39us/step - loss: 0.1616\n",
            "Epoch 13/50\n",
            "500/500 [==============================] - 0s 37us/step - loss: 0.1560\n",
            "Epoch 14/50\n",
            "500/500 [==============================] - 0s 38us/step - loss: 0.1481\n",
            "Epoch 15/50\n",
            "500/500 [==============================] - 0s 38us/step - loss: 0.1451\n",
            "Epoch 16/50\n",
            "500/500 [==============================] - 0s 45us/step - loss: 0.1378\n",
            "Epoch 17/50\n",
            "500/500 [==============================] - 0s 42us/step - loss: 0.1411\n",
            "Epoch 18/50\n",
            "500/500 [==============================] - 0s 43us/step - loss: 0.1323\n",
            "Epoch 19/50\n",
            "500/500 [==============================] - 0s 44us/step - loss: 0.1263\n",
            "Epoch 20/50\n",
            "500/500 [==============================] - 0s 54us/step - loss: 0.1271\n",
            "Epoch 21/50\n",
            "500/500 [==============================] - 0s 44us/step - loss: 0.1232\n",
            "Epoch 22/50\n",
            "500/500 [==============================] - 0s 41us/step - loss: 0.1191\n",
            "Epoch 23/50\n",
            "500/500 [==============================] - 0s 48us/step - loss: 0.1227\n",
            "Epoch 24/50\n",
            "500/500 [==============================] - 0s 38us/step - loss: 0.1159\n",
            "Epoch 25/50\n",
            "500/500 [==============================] - 0s 38us/step - loss: 0.1157\n",
            "Epoch 26/50\n",
            "500/500 [==============================] - 0s 40us/step - loss: 0.1140\n",
            "Epoch 27/50\n",
            "500/500 [==============================] - 0s 38us/step - loss: 0.1154\n",
            "Epoch 28/50\n",
            "500/500 [==============================] - 0s 39us/step - loss: 0.1244\n",
            "Epoch 29/50\n",
            "500/500 [==============================] - 0s 43us/step - loss: 0.1200\n",
            "Epoch 30/50\n",
            "500/500 [==============================] - 0s 42us/step - loss: 0.1149\n",
            "Epoch 31/50\n",
            "500/500 [==============================] - 0s 44us/step - loss: 0.1118\n",
            "Epoch 32/50\n",
            "500/500 [==============================] - 0s 44us/step - loss: 0.1147\n",
            "Epoch 33/50\n",
            "500/500 [==============================] - 0s 45us/step - loss: 0.1101\n",
            "Epoch 34/50\n",
            "500/500 [==============================] - 0s 45us/step - loss: 0.1142\n",
            "Epoch 35/50\n",
            "500/500 [==============================] - 0s 45us/step - loss: 0.1083\n",
            "Epoch 36/50\n",
            "500/500 [==============================] - 0s 45us/step - loss: 0.1101\n",
            "Epoch 37/50\n",
            "500/500 [==============================] - 0s 49us/step - loss: 0.1087\n",
            "Epoch 38/50\n",
            "500/500 [==============================] - 0s 40us/step - loss: 0.1083\n",
            "Epoch 39/50\n",
            "500/500 [==============================] - 0s 41us/step - loss: 0.1080\n",
            "Epoch 40/50\n",
            "500/500 [==============================] - 0s 54us/step - loss: 0.1075\n",
            "Epoch 41/50\n",
            "500/500 [==============================] - 0s 49us/step - loss: 0.1140\n",
            "Epoch 42/50\n",
            "500/500 [==============================] - 0s 41us/step - loss: 0.1041\n",
            "Epoch 43/50\n",
            "500/500 [==============================] - 0s 62us/step - loss: 0.1058\n",
            "Epoch 44/50\n",
            "500/500 [==============================] - 0s 48us/step - loss: 0.1085\n",
            "Epoch 45/50\n",
            "500/500 [==============================] - 0s 56us/step - loss: 0.1037\n",
            "Epoch 46/50\n",
            "500/500 [==============================] - 0s 45us/step - loss: 0.1031\n",
            "Epoch 47/50\n",
            "500/500 [==============================] - 0s 46us/step - loss: 0.1126\n",
            "Epoch 48/50\n",
            "500/500 [==============================] - 0s 46us/step - loss: 0.1077\n",
            "Epoch 49/50\n",
            "500/500 [==============================] - 0s 47us/step - loss: 0.1034\n",
            "Epoch 50/50\n",
            "500/500 [==============================] - 0s 45us/step - loss: 0.1077\n"
          ],
          "name": "stdout"
        },
        {
          "output_type": "execute_result",
          "data": {
            "text/plain": [
              "<keras.callbacks.callbacks.History at 0x7f4184c33e48>"
            ]
          },
          "metadata": {
            "tags": []
          },
          "execution_count": 13
        }
      ]
    },
    {
      "cell_type": "code",
      "metadata": {
        "id": "nGSjGsMHQoAQ",
        "colab_type": "code",
        "colab": {
          "base_uri": "https://localhost:8080/",
          "height": 265
        },
        "outputId": "bee18934-84c3-42dd-b410-7c65ebd431e0"
      },
      "source": [
        "predictions = model.predict(X) # we are predicting estimated value for each corresponding X value in X array\n",
        "plt.scatter(X, y)\n",
        "plt.plot(X, predictions, 'ro') # ro means red circle # each estimated value as red circle\n",
        "plt.show()\n",
        "# finally prints estimated vales y for every x coordinates"
      ],
      "execution_count": 14,
      "outputs": [
        {
          "output_type": "display_data",
          "data": {
            "image/png": "[encoded data removed]",
            "text/plain": [
              "<Figure size 432x288 with 1 Axes>"
            ]
          },
          "metadata": {
            "tags": [],
            "needs_background": "light"
          }
        }
      ]
    },
    {
      "cell_type": "code",
      "metadata": {
        "id": "rPBLm9JsQqb5",
        "colab_type": "code",
        "colab": {}
      },
      "source": [
        ""
      ],
      "execution_count": 14,
      "outputs": []
    }
  ]
}